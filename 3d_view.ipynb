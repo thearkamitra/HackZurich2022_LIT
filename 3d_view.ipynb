{
 "cells": [
  {
   "cell_type": "code",
   "execution_count": null,
   "metadata": {},
   "outputs": [],
   "source": [
    "import numpy as np\n",
    "import matplotlib.pyplot as plt\n",
    "from mpl_toolkits.mplot3d import Axes3D\n",
    "import cv2\n",
    "import os"
   ]
  },
  {
   "cell_type": "code",
   "execution_count": 2,
   "metadata": {},
   "outputs": [],
   "source": [
    "img_files = os.listdir(\"pdf2png\")"
   ]
  },
  {
   "cell_type": "code",
   "execution_count": null,
   "metadata": {},
   "outputs": [],
   "source": []
  },
  {
   "cell_type": "code",
   "execution_count": 19,
   "metadata": {},
   "outputs": [],
   "source": [
    "data = {}\n",
    "img_shape = None\n",
    "count = 0\n",
    "for img_file in img_files:\n",
    "    img = cv2.imread(\"pdf2png/\"+img_file,0)[600:1700,200:3400]\n",
    "    img_shape = img.shape\n",
    "    x = ['a_req_min' , 'a_req_max' , 'b_min' , 'b_max']\n",
    "    with open(\"dilated/harris/del_\"+img_file[:-4]+\".npz\",\"rb\") as f:\n",
    "        points = {i: np.load(f)[i] for i in x}\n",
    "    data[count] = {\"img\":img, \"points\":points}\n",
    "    count+=1"
   ]
  },
  {
   "cell_type": "code",
   "execution_count": 14,
   "metadata": {},
   "outputs": [],
   "source": [
    "view_3d = np.ones((5*len(data)+2,img_shape[0], img_shape[1]))*255"
   ]
  },
  {
   "cell_type": "code",
   "execution_count": null,
   "metadata": {},
   "outputs": [],
   "source": [
    "def offset_things(offsets, img1, img2):\n",
    "    h, w = img1.shape\n",
    "    for i in range(h):\n",
    "        for j in range(w):\n",
    "            img2[i,j] = img1[(i+h-offsets[0])%h, (j +w - offsets[1])%w]\n",
    "    "
   ]
  },
  {
   "cell_type": "code",
   "execution_count": 16,
   "metadata": {},
   "outputs": [],
   "source": [
    "already_done = None\n",
    "count= 0 \n",
    "for img_file in img_files:\n",
    "    if already_done is None:\n",
    "        view_3d[0,:,:] = data[img_file[:-4]][\"img\"]\n",
    "        already_done = 1\n",
    "        offsets = data[img_file[:-4]][\"points\"]\n",
    "    else:\n",
    "        view_3d[count*5,:,:] = data[img_file[:-4]][\"img\"]\n",
    "\n",
    "    count += 1\n",
    "    "
   ]
  },
  {
   "cell_type": "code",
   "execution_count": 18,
   "metadata": {},
   "outputs": [],
   "source": [
    "h,w = img.shape"
   ]
  },
  {
   "cell_type": "code",
   "execution_count": 20,
   "metadata": {},
   "outputs": [
    {
     "ename": "KeyboardInterrupt",
     "evalue": "",
     "output_type": "error",
     "traceback": [
      "\u001b[0;31m---------------------------------------------------------------------------\u001b[0m",
      "\u001b[0;31mKeyboardInterrupt\u001b[0m                         Traceback (most recent call last)",
      "\u001b[1;32m/home/arka/HackZurich2022_LIT/3d_view.ipynb Cell 9\u001b[0m in \u001b[0;36m<cell line: 9>\u001b[0;34m()\u001b[0m\n\u001b[1;32m     <a href='vscode-notebook-cell:/home/arka/HackZurich2022_LIT/3d_view.ipynb#W6sZmlsZQ%3D%3D?line=12'>13</a>\u001b[0m         \u001b[39mfor\u001b[39;00m y \u001b[39min\u001b[39;00m \u001b[39mrange\u001b[39m(w):\n\u001b[1;32m     <a href='vscode-notebook-cell:/home/arka/HackZurich2022_LIT/3d_view.ipynb#W6sZmlsZQ%3D%3D?line=13'>14</a>\u001b[0m             \u001b[39mif\u001b[39;00m data[count][\u001b[39m\"\u001b[39m\u001b[39mimg\u001b[39m\u001b[39m\"\u001b[39m][x,y]\u001b[39m<\u001b[39m\u001b[39m250\u001b[39m:\n\u001b[0;32m---> <a href='vscode-notebook-cell:/home/arka/HackZurich2022_LIT/3d_view.ipynb#W6sZmlsZQ%3D%3D?line=14'>15</a>\u001b[0m                 ax\u001b[39m.\u001b[39;49mscatter(x,y, count\u001b[39m*\u001b[39;49m\u001b[39m5\u001b[39;49m, \u001b[39m'\u001b[39;49m\u001b[39mo\u001b[39;49m\u001b[39m'\u001b[39;49m)\n\u001b[1;32m     <a href='vscode-notebook-cell:/home/arka/HackZurich2022_LIT/3d_view.ipynb#W6sZmlsZQ%3D%3D?line=15'>16</a>\u001b[0m \u001b[39melse\u001b[39;00m:\n\u001b[1;32m     <a href='vscode-notebook-cell:/home/arka/HackZurich2022_LIT/3d_view.ipynb#W6sZmlsZQ%3D%3D?line=16'>17</a>\u001b[0m     offset_diff \u001b[39m=\u001b[39m (data[count][\u001b[39m\"\u001b[39m\u001b[39mpoints\u001b[39m\u001b[39m\"\u001b[39m][\u001b[39m'\u001b[39m\u001b[39ma_req_min\u001b[39m\u001b[39m'\u001b[39m],  data[count][\u001b[39m\"\u001b[39m\u001b[39mpoints\u001b[39m\u001b[39m\"\u001b[39m][\u001b[39m'\u001b[39m\u001b[39mb_min\u001b[39m\u001b[39m'\u001b[39m])\n",
      "File \u001b[0;32m~/.conda/envs/ML4HC/lib/python3.9/site-packages/matplotlib/__init__.py:1412\u001b[0m, in \u001b[0;36m_preprocess_data.<locals>.inner\u001b[0;34m(ax, data, *args, **kwargs)\u001b[0m\n\u001b[1;32m   1409\u001b[0m \u001b[39m@functools\u001b[39m\u001b[39m.\u001b[39mwraps(func)\n\u001b[1;32m   1410\u001b[0m \u001b[39mdef\u001b[39;00m \u001b[39minner\u001b[39m(ax, \u001b[39m*\u001b[39margs, data\u001b[39m=\u001b[39m\u001b[39mNone\u001b[39;00m, \u001b[39m*\u001b[39m\u001b[39m*\u001b[39mkwargs):\n\u001b[1;32m   1411\u001b[0m     \u001b[39mif\u001b[39;00m data \u001b[39mis\u001b[39;00m \u001b[39mNone\u001b[39;00m:\n\u001b[0;32m-> 1412\u001b[0m         \u001b[39mreturn\u001b[39;00m func(ax, \u001b[39m*\u001b[39;49m\u001b[39mmap\u001b[39;49m(sanitize_sequence, args), \u001b[39m*\u001b[39;49m\u001b[39m*\u001b[39;49mkwargs)\n\u001b[1;32m   1414\u001b[0m     bound \u001b[39m=\u001b[39m new_sig\u001b[39m.\u001b[39mbind(ax, \u001b[39m*\u001b[39margs, \u001b[39m*\u001b[39m\u001b[39m*\u001b[39mkwargs)\n\u001b[1;32m   1415\u001b[0m     auto_label \u001b[39m=\u001b[39m (bound\u001b[39m.\u001b[39marguments\u001b[39m.\u001b[39mget(label_namer)\n\u001b[1;32m   1416\u001b[0m                   \u001b[39mor\u001b[39;00m bound\u001b[39m.\u001b[39mkwargs\u001b[39m.\u001b[39mget(label_namer))\n",
      "File \u001b[0;32m~/.conda/envs/ML4HC/lib/python3.9/site-packages/mpl_toolkits/mplot3d/axes3d.py:2396\u001b[0m, in \u001b[0;36mAxes3D.scatter\u001b[0;34m(self, xs, ys, zs, zdir, s, c, depthshade, *args, **kwargs)\u001b[0m\n\u001b[1;32m   2393\u001b[0m \u001b[39mif\u001b[39;00m \u001b[39mself\u001b[39m\u001b[39m.\u001b[39m_zmargin \u001b[39m<\u001b[39m \u001b[39m0.05\u001b[39m \u001b[39mand\u001b[39;00m xs\u001b[39m.\u001b[39msize \u001b[39m>\u001b[39m \u001b[39m0\u001b[39m:\n\u001b[1;32m   2394\u001b[0m     \u001b[39mself\u001b[39m\u001b[39m.\u001b[39mset_zmargin(\u001b[39m0.05\u001b[39m)\n\u001b[0;32m-> 2396\u001b[0m \u001b[39mself\u001b[39;49m\u001b[39m.\u001b[39;49mauto_scale_xyz(xs, ys, zs, had_data)\n\u001b[1;32m   2398\u001b[0m \u001b[39mreturn\u001b[39;00m patches\n",
      "File \u001b[0;32m~/.conda/envs/ML4HC/lib/python3.9/site-packages/mpl_toolkits/mplot3d/axes3d.py:660\u001b[0m, in \u001b[0;36mAxes3D.auto_scale_xyz\u001b[0;34m(self, X, Y, Z, had_data)\u001b[0m\n\u001b[1;32m    658\u001b[0m     \u001b[39mself\u001b[39m\u001b[39m.\u001b[39mzz_dataLim\u001b[39m.\u001b[39mupdate_from_data_x(Z, \u001b[39mnot\u001b[39;00m had_data)\n\u001b[1;32m    659\u001b[0m \u001b[39m# Let autoscale_view figure out how to use this data.\u001b[39;00m\n\u001b[0;32m--> 660\u001b[0m \u001b[39mself\u001b[39;49m\u001b[39m.\u001b[39;49mautoscale_view()\n",
      "File \u001b[0;32m~/.conda/envs/ML4HC/lib/python3.9/site-packages/mpl_toolkits/mplot3d/axes3d.py:677\u001b[0m, in \u001b[0;36mAxes3D.autoscale_view\u001b[0;34m(self, tight, scalex, scaley, scalez)\u001b[0m\n\u001b[1;32m    674\u001b[0m \u001b[39mif\u001b[39;00m \u001b[39mnot\u001b[39;00m _tight:\n\u001b[1;32m    675\u001b[0m     \u001b[39m# if image data only just use the datalim\u001b[39;00m\n\u001b[1;32m    676\u001b[0m     \u001b[39mfor\u001b[39;00m artist \u001b[39min\u001b[39;00m \u001b[39mself\u001b[39m\u001b[39m.\u001b[39m_children:\n\u001b[0;32m--> 677\u001b[0m         \u001b[39mif\u001b[39;00m \u001b[39misinstance\u001b[39;49m(artist, mimage\u001b[39m.\u001b[39;49mAxesImage):\n\u001b[1;32m    678\u001b[0m             _tight \u001b[39m=\u001b[39m \u001b[39mTrue\u001b[39;00m\n\u001b[1;32m    679\u001b[0m         \u001b[39melif\u001b[39;00m \u001b[39misinstance\u001b[39m(artist, (mlines\u001b[39m.\u001b[39mLine2D, mpatches\u001b[39m.\u001b[39mPatch)):\n",
      "\u001b[0;31mKeyboardInterrupt\u001b[0m: "
     ]
    }
   ],
   "source": [
    "\n",
    "fig = plt.figure(figsize=(10, 10))\n",
    " \n",
    "ax = plt.axes(projection='3d')\n",
    "\n",
    "x = np.arange(0, h, 1)\n",
    "y = np.arange(0, w, 1)\n",
    "\n",
    "count = 0 \n",
    "for i in range(len(data)):\n",
    "    if count==0:\n",
    "        offset_setting = (data[count][\"points\"]['a_req_min'],  data[count][\"points\"]['b_min'])\n",
    "        for x in range(h):\n",
    "            for y in range(w):\n",
    "                if data[count][\"img\"][x,y]<250:\n",
    "                    ax.scatter(x,y, count*5, 'o')\n",
    "    else:\n",
    "        offset_diff = (data[count][\"points\"]['a_req_min'],  data[count][\"points\"]['b_min'])\n",
    "        offset_diff = (offset_diff[0]- offset_setting[0], offset_diff[1]- offset_setting[1])\n",
    "        for x in range(h):\n",
    "            for y in range(w):\n",
    "                if data[count][\"img\"][x,y]<250:\n",
    "                    ax.scatter((x+h-offset_diff[0])%h,(y+w-offset_diff[1])%w, count*5, 'o')\n",
    "    count+=1\n",
    "    \n",
    "plt.show()"
   ]
  },
  {
   "cell_type": "code",
   "execution_count": null,
   "metadata": {},
   "outputs": [],
   "source": []
  }
 ],
 "metadata": {
  "kernelspec": {
   "display_name": "Python 3.9.12 ('ML4HC')",
   "language": "python",
   "name": "python3"
  },
  "language_info": {
   "codemirror_mode": {
    "name": "ipython",
    "version": 3
   },
   "file_extension": ".py",
   "mimetype": "text/x-python",
   "name": "python",
   "nbconvert_exporter": "python",
   "pygments_lexer": "ipython3",
   "version": "3.9.12"
  },
  "orig_nbformat": 4,
  "vscode": {
   "interpreter": {
    "hash": "0b056435fa01ec9081bc4e25f73647c7d6169143dd30fc781bb5119f3e396455"
   }
  }
 },
 "nbformat": 4,
 "nbformat_minor": 2
}
